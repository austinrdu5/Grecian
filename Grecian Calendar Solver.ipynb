{
 "cells": [
  {
   "cell_type": "markdown",
   "id": "biblical-charleston",
   "metadata": {},
   "source": [
    "# Grecian Calendar Solver"
   ]
  },
  {
   "cell_type": "markdown",
   "id": "falling-malaysia",
   "metadata": {},
   "source": [
    "## 0. Import Dependencies"
   ]
  },
  {
   "cell_type": "code",
   "execution_count": 34,
   "id": "proved-africa",
   "metadata": {},
   "outputs": [],
   "source": [
    "import numpy as np"
   ]
  },
  {
   "cell_type": "markdown",
   "id": "swedish-diversity",
   "metadata": {},
   "source": [
    "## 1. Create Layer Structure"
   ]
  },
  {
   "cell_type": "code",
   "execution_count": 306,
   "id": "shaped-exception",
   "metadata": {},
   "outputs": [],
   "source": [
    "x = np.nan\n",
    "def make_layer(*rows, nrows = 4):\n",
    "    if len(rows) > nrows:\n",
    "        raise Exception('Number of rows in layer cannot exceed \\'nrows\\'')\n",
    "        \n",
    "    row_length = len(rows[0])\n",
    "    arr = np.array(rows)\n",
    "    \n",
    "    if len(rows) < nrows:\n",
    "        arr = np.concatenate((np.array([[np.nan]*row_length]*(nrows - len(rows))),\n",
    "                              arr\n",
    "                             ))\n",
    "    return arr"
   ]
  },
  {
   "cell_type": "code",
   "execution_count": 294,
   "id": "lined-microwave",
   "metadata": {},
   "outputs": [],
   "source": [
    "def stack_layers(*layers):\n",
    "    top = layers[0]\n",
    "    for layer in layers[1:]:\n",
    "        top = np.where(np.isnan(top), layer, top)\n",
    "    return top"
   ]
  },
  {
   "cell_type": "markdown",
   "id": "social-tyler",
   "metadata": {},
   "source": [
    "## 2. Create Solution Process"
   ]
  },
  {
   "cell_type": "code",
   "execution_count": 441,
   "id": "bored-vampire",
   "metadata": {},
   "outputs": [],
   "source": [
    "def solve(*layers, target = 42):\n",
    "    n_layers = len(layers)\n",
    "    layer_width = layers[0].shape[1]\n",
    "    \n",
    "    rotations = zip(*[x.flatten() for x in np.meshgrid(*[range(layer_width)]*(n_layers-1))])\n",
    "    \n",
    "    output = np.zeros((12**4, 4))\n",
    "    i = 0\n",
    "    for r in rotations:\n",
    "        top_layer = stack_layers(*([np.roll(layers[i], r[i], 1) for i in range(n_layers-1)]))\n",
    "        top_layer = stack_layers(top_layer, layers[-1])\n",
    "        \n",
    "        if all(np.sum(top_layer, 0) == target):\n",
    "            print(top_layer, r, target)\n",
    "            \n",
    "        output[i] = [i, bimode_freq(np.sum(top_layer, 0)), mode_freq(np.sum(top_layer, 0))]\n",
    "        i = i + 1\n",
    "            \n",
    "    return output"
   ]
  },
  {
   "cell_type": "code",
   "execution_count": 437,
   "id": "defensive-rental",
   "metadata": {},
   "outputs": [],
   "source": [
    "def mode_freq(arr):\n",
    "    return max(np.unique(arr, return_counts = True)[1])\n",
    "\n",
    "def bimode_freq(arr):\n",
    "    freqs = np.unique(arr, return_counts = True)[1]\n",
    "    if len(freqs) == 1:\n",
    "        return freqs[0]\n",
    "    return sum(np.partition(freqs, -2)[-2:])"
   ]
  },
  {
   "cell_type": "markdown",
   "id": "likely-jungle",
   "metadata": {},
   "source": [
    "## 3. Solve"
   ]
  },
  {
   "cell_type": "code",
   "execution_count": 381,
   "id": "earlier-shadow",
   "metadata": {},
   "outputs": [
    {
     "data": {
      "text/plain": [
       "array([[nan, nan, nan, nan, nan, nan, nan, nan, nan, nan, nan, nan],\n",
       "       [nan, nan, nan, nan, nan, nan, nan, nan, nan, nan, nan, nan],\n",
       "       [ 4., nan,  7., 15., nan, nan, 14., nan,  9., nan, 12., nan],\n",
       "       [ 7.,  3., nan,  6., nan, 11., 11.,  6., 11., nan,  6., 17.]])"
      ]
     },
     "execution_count": 381,
     "metadata": {},
     "output_type": "execute_result"
    }
   ],
   "source": [
    "layer1 = make_layer([3, x, 6, x, 10, x, 7, x, 15, x, 8, x])\n",
    "\n",
    "layer2 = make_layer([4, x, 7, 15, x, x, 14, x, 9, x, 12, x],\n",
    "                    [7, 3, x, 6, x, 11, 11, 6, 11, x, 6, 17])\n",
    "\n",
    "layer3 = make_layer([5, x, 10, x, 8, x, 22, x, 16, x, 9, x],\n",
    "                    [21, 6, 15, 4, 9, 18, 11, 26, 14, 1, 12, x],\n",
    "                    [9, 13, 9, 7, 13, 21, 17, 4, 5, x, 7, 8],)\n",
    "\n",
    "layer4 = make_layer([1, x, 9, x, 12, x, 6, x, 10, x, 10, x],\n",
    "                    [3, 26, 6, x, 2, 13, 9, x, 17, 19, 3, 12],\n",
    "                    [9, 20, 12, 3, 6, x, 14, 12, 3, 8, 9, x],\n",
    "                    [7, x, 9, x, 7, 14, 11, x, 8, x, 16, 2])\n",
    "\n",
    "layer5 = make_layer([2, 5, 10, 7, 16, 8, 7, 8, 8, 3, 4, 12],\n",
    "                    [3, 3, 14, 14, 21, 21, 9, 9, 4, 4, 6, 6],\n",
    "                    [8, 9, 10, 11, 12, 13, 14, 15, 4, 5, 6, 7],\n",
    "                    [14, 11, 14, 14, 11, 14, 11, 14, 11, 11, 14, 11])\n",
    "layer2"
   ]
  },
  {
   "cell_type": "code",
   "execution_count": 442,
   "id": "controversial-responsibility",
   "metadata": {},
   "outputs": [
    {
     "name": "stdout",
     "output_type": "stream",
     "text": [
      "[[ 1.  5.  9.  7. 12.  8.  6.  8. 10.  3. 10. 12.]\n",
      " [22. 26. 16. 14.  9. 13.  5.  9. 10. 19.  8. 12.]\n",
      " [11.  4. 14.  7. 15. 13. 21. 14. 15.  9.  9. 12.]\n",
      " [ 8.  7.  3. 14.  6.  8. 10. 11.  7. 11. 15.  6.]] (2, 1, 6, 0) 42\n"
     ]
    }
   ],
   "source": [
    "data = solve(layer1, layer2, layer3, layer4, layer5, target = 42)"
   ]
  },
  {
   "cell_type": "markdown",
   "id": "animal-dragon",
   "metadata": {},
   "source": [
    "## 4. Explore Other Potential Solutions"
   ]
  },
  {
   "cell_type": "code",
   "execution_count": 444,
   "id": "racial-motivation",
   "metadata": {},
   "outputs": [
    {
     "data": {
      "text/plain": [
       "array([[19066,     7,     6],\n",
       "       [ 2952,     7,     6],\n",
       "       [14655,     7,     5],\n",
       "       [20016,     7,     4],\n",
       "       [18909,     8,     6],\n",
       "       [ 7127,     7,     6],\n",
       "       [ 1818,     7,     4],\n",
       "       [ 3240,     8,     6],\n",
       "       [  215,     7,     6],\n",
       "       [ 2390,     7,     5],\n",
       "       [  373,     7,     5],\n",
       "       [ 2304,     8,     6],\n",
       "       [ 2664,     8,     6],\n",
       "       [ 1776,     8,     6],\n",
       "       [ 2088,    12,    12],\n",
       "       [15139,     8,     6],\n",
       "       [11513,     8,     6],\n",
       "       [ 3973,     8,     7],\n",
       "       [ 5858,     8,     6],\n",
       "       [12770,     8,     7]])"
      ]
     },
     "execution_count": 444,
     "metadata": {},
     "output_type": "execute_result"
    }
   ],
   "source": [
    "data[np.argpartition(data[:,1], -20)[-20:]].astype(int)"
   ]
  },
  {
   "cell_type": "code",
   "execution_count": 371,
   "id": "false-roberts",
   "metadata": {},
   "outputs": [
    {
     "data": {
      "text/plain": [
       "array([ 7127, 12770,  2088, 17901,  9628, 15591,  3973, 18909,  7743,\n",
       "        2664])"
      ]
     },
     "execution_count": 371,
     "metadata": {},
     "output_type": "execute_result"
    }
   ],
   "source": [
    "small_inds = sds[np.argpartition(sds[:,1], 10)[:10]][:,0]\n",
    "small_inds.astype(int)"
   ]
  },
  {
   "cell_type": "markdown",
   "id": "promotional-blocking",
   "metadata": {},
   "source": [
    "small sds at indices 7127, 3254, 16462, 14159."
   ]
  },
  {
   "cell_type": "code",
   "execution_count": 445,
   "id": "committed-frederick",
   "metadata": {},
   "outputs": [
    {
     "data": {
      "text/plain": [
       "(7, 6, 11, 5)"
      ]
     },
     "execution_count": 445,
     "metadata": {},
     "output_type": "execute_result"
    }
   ],
   "source": [
    "r = list(zip(*[x.flatten() for x in np.meshgrid(*[range(12)]*(5-1))]))[11513]\n",
    "r"
   ]
  },
  {
   "cell_type": "code",
   "execution_count": 446,
   "id": "remarkable-turtle",
   "metadata": {},
   "outputs": [
    {
     "data": {
      "text/plain": [
       "array([[ 2., 10., 10., 10., 16.,  1.,  7.,  9.,  8., 12.,  4.,  6.],\n",
       "       [ 3., 10., 19.,  8., 12., 22., 26., 16.,  4.,  9., 13.,  5.],\n",
       "       [14., 15.,  9.,  9., 12., 11.,  4., 14.,  7., 15.,  6., 21.],\n",
       "       [11.,  7., 11., 15.,  6.,  8.,  7.,  3., 11.,  6.,  8., 10.]])"
      ]
     },
     "execution_count": 446,
     "metadata": {},
     "output_type": "execute_result"
    }
   ],
   "source": [
    "top_layer = stack_layers(*([np.roll(layers[i], r[i], 1) for i in range(5-1)]))\n",
    "top_layer = stack_layers(top_layer, layers[-1])\n",
    "top_layer"
   ]
  },
  {
   "cell_type": "code",
   "execution_count": 447,
   "id": "fifty-collar",
   "metadata": {},
   "outputs": [
    {
     "data": {
      "text/plain": [
       "array([30., 42., 49., 42., 46., 42., 44., 42., 30., 42., 31., 42.])"
      ]
     },
     "execution_count": 447,
     "metadata": {},
     "output_type": "execute_result"
    }
   ],
   "source": [
    "test = np.sum(top_layer,0)\n",
    "test"
   ]
  },
  {
   "cell_type": "code",
   "execution_count": 422,
   "id": "brown-barrier",
   "metadata": {},
   "outputs": [
    {
     "data": {
      "text/plain": [
       "array([2, 3], dtype=int64)"
      ]
     },
     "execution_count": 422,
     "metadata": {},
     "output_type": "execute_result"
    }
   ],
   "source": [
    "test = np.array([5, 10, 3, 20, 10, 3, 3])\n",
    "np.partition(np.unique(test, return_counts = True)[1], 2)[-2:]"
   ]
  },
  {
   "cell_type": "code",
   "execution_count": null,
   "id": "dominant-simple",
   "metadata": {},
   "outputs": [],
   "source": []
  }
 ],
 "metadata": {
  "kernelspec": {
   "display_name": "Python 3",
   "language": "python",
   "name": "python3"
  },
  "language_info": {
   "codemirror_mode": {
    "name": "ipython",
    "version": 3
   },
   "file_extension": ".py",
   "mimetype": "text/x-python",
   "name": "python",
   "nbconvert_exporter": "python",
   "pygments_lexer": "ipython3",
   "version": "3.7.4"
  }
 },
 "nbformat": 4,
 "nbformat_minor": 5
}
